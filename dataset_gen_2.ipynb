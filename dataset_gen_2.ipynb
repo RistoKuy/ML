{
 "cells": [
  {
   "cell_type": "markdown",
   "id": "9e6e6a3e",
   "metadata": {},
   "source": [
    "import pandas as pd\n",
    "import numpy as np\n",
    "\n",
    "# Parameters\n",
    "n = 50000\n",
    "recomb_rate = 0.2  # recombination frequency\n",
    "\n",
    "# Gamete probabilities for AaBb parent\n",
    "p_nonrec = (1 - recomb_rate) / 2\n",
    "p_rec = recomb_rate / 2\n",
    "gamete_types = ['AB', 'ab', 'Ab', 'aB']\n",
    "probs = [p_nonrec, p_nonrec, p_rec, p_rec]\n",
    "\n",
    "# Simulate gamete production\n",
    "np.random.seed(42)\n",
    "gametes = np.random.choice(gamete_types, size=n, p=probs)\n",
    "\n",
    "# Build DataFrame\n",
    "df = pd.DataFrame({\n",
    "    'ParentGenotype': ['AaBb'] * n,\n",
    "    'RecombinationRate': [recomb_rate] * n,\n",
    "    'GameteType': gametes\n",
    "})\n",
    "\n",
    "# Save to CSV\n",
    "file_path = '/mnt/data/dihybrid_gamete_dataset.csv'\n",
    "df.to_csv(file_path, index=False)\n",
    "\n",
    "# Display preview\n",
    "df.head()\n"
   ]
  }
 ],
 "metadata": {
  "kernelspec": {
   "display_name": "Python 3",
   "language": "python",
   "name": "python3"
  },
  "language_info": {
   "name": "python",
   "version": "3.10.6"
  }
 },
 "nbformat": 4,
 "nbformat_minor": 5
}
